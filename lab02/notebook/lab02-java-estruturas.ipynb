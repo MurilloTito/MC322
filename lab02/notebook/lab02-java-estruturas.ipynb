{
 "cells": [
  {
   "cell_type": "markdown",
   "metadata": {},
   "source": [
    "# Laboratório em Estruturas de Programação Java\n",
    "\n",
    "O laboratório a seguir serve para praticar estruturas de programação Java sem compromisso com a orientação a objetos."
   ]
  },
  {
   "cell_type": "markdown",
   "metadata": {},
   "source": [
    "## Desafio 1 - Empréstimo\n",
    "\n",
    "Em um financiamento com juros compostos e número de parcelas fixas parte-se dos seguintes parâmetros:\n",
    "* `S` - valor da primeira parcela\n",
    "* `N` - número de parcelas\n",
    "* `J` - percentual de juros mensal\n",
    "\n",
    "A primeira parcela a ser paga do financiamento é sempre igual a `S`. A partir daí é feita uma atualização mensal da parcela, em que cada nova parcela é calculada a partir da parcela do mês anterior, conforme a fórmula:\n",
    "\n",
    "> Parcela<sub>mês</sub> = Parcela<sub>mês-1</sub> * (1 + `J` / 100)\n",
    "\n",
    "O financiamento encerra quando as `N` parcelas são pagas.\n",
    "\n",
    "Exemplo:\n",
    "* `S`: 200\n",
    "* `N`: 5\n",
    "* `J`: 1%\n",
    "\n",
    "Parcelas do financiamento:\n",
    "`200`; `202`; `204.02`; `206.06`; `208.12`"
   ]
  },
  {
   "cell_type": "markdown",
   "metadata": {},
   "source": [
    "### Desafio 1 / Parte 1 - Escrevendo o programa sem módulos\n",
    "\n",
    "Dado o problema descrito, escreva um programa que calcule as parcelas de um empréstimo para os seguintes valores:\n",
    "* S: 200\n",
    "* N: 5\n",
    "* J: 1%\n",
    "\n",
    "Nesta versão não use outro módulo além da função principal."
   ]
  },
  {
   "cell_type": "code",
   "execution_count": 1,
   "metadata": {},
   "outputs": [
    {
     "name": "stdout",
     "output_type": "stream",
     "text": [
      "200.00\n",
      "202.00\n",
      "204.02\n",
      "206.06\n",
      "208.12\n"
     ]
    },
    {
     "data": {
      "text/plain": [
       "null"
      ]
     },
     "execution_count": 1,
     "metadata": {},
     "output_type": "execute_result"
    }
   ],
   "source": [
    "float S = 200;\n",
    "int N = 5;\n",
    "float J = 1;\n",
    "float parcelas[];\n",
    "parcelas = new float[N];\n",
    "parcelas[0] = S;\n",
    "System.out.printf(\"%.2f\\n\", parcelas[0]);\n",
    "int x = 1;\n",
    "while (x < N) {\n",
    "    parcelas[x] = parcelas[x - 1] * (1 + J / 100);\n",
    "    System.out.printf(\"%.2f\\n\", parcelas[x]);\n",
    "    x += 1;\n",
    "}"
   ]
  },
  {
   "cell_type": "markdown",
   "metadata": {},
   "source": [
    "### Desafio 1 / Parte 2 - Escrevendo módulos\n",
    "\n",
    "Reescreva o código acima de forma que seu programa faça uso de uma função que seja responsável pelo cálculo de uma parcela X do empréstimo. Podem ser usadas mais funções (métodos) conforme a necessidade."
   ]
  },
  {
   "cell_type": "code",
   "execution_count": 3,
   "metadata": {},
   "outputs": [
    {
     "data": {
      "text/plain": [
       "com.twosigma.beaker.javash.bkr6754f1f4.Parcela"
      ]
     },
     "execution_count": 3,
     "metadata": {},
     "output_type": "execute_result"
    }
   ],
   "source": [
    "public class Parcela {\n",
    "    static float proximaParcela(float parcela, float J) {\n",
    "        parcela = parcela * (1 + J / 100);\n",
    "        return parcela;\n",
    "    }\n",
    "}"
   ]
  },
  {
   "cell_type": "code",
   "execution_count": 4,
   "metadata": {},
   "outputs": [
    {
     "name": "stdout",
     "output_type": "stream",
     "text": [
      "200.00\n",
      "202.00\n",
      "204.02\n",
      "206.06\n",
      "208.12\n"
     ]
    },
    {
     "data": {
      "text/plain": [
       "null"
      ]
     },
     "execution_count": 4,
     "metadata": {},
     "output_type": "execute_result"
    }
   ],
   "source": [
    "float S = 200;\n",
    "int N = 5;\n",
    "float J = 1;\n",
    "float parcela = S;\n",
    "int x = 0;\n",
    "while (x < N) {\n",
    "    System.out.printf(\"%.2f\\n\", parcela);\n",
    "    parcela = Parcela.proximaParcela(parcela, J);\n",
    "    x += 1;\n",
    "}"
   ]
  },
  {
   "cell_type": "markdown",
   "metadata": {},
   "source": [
    "## Desafio 2\n",
    "\n",
    "Escreva um programa que sorteie um número inteiro entre `0` e `9999` o número deve ser mostrado, em seguida convertido para binário e a versão binária deve ser apresentada no console. A conversão decimal/binário deve ser computada por um programa feito por você."
   ]
  },
  {
   "cell_type": "code",
   "execution_count": 7,
   "metadata": {},
   "outputs": [
    {
     "name": "stdout",
     "output_type": "stream",
     "text": [
      "6024\n",
      "1011110001000"
     ]
    },
    {
     "data": {
      "text/plain": [
       "null"
      ]
     },
     "execution_count": 7,
     "metadata": {},
     "output_type": "execute_result"
    }
   ],
   "source": [
    "import java.util.Random;\n",
    "\n",
    "Random rand = new Random();\n",
    "int n = rand.nextInt(9999) + 1;\n",
    "System.out.println(n);\n",
    "\n",
    "int decimal = n;\n",
    "int resto[];\n",
    "resto = new int[n];\n",
    "int x = 0;\n",
    "while (true) {\n",
    "    int prox_num = decimal / 2;\n",
    "    int binario = decimal % 2;\n",
    "    resto[x] = binario;\n",
    "    x += 1;\n",
    "    decimal = prox_num;\n",
    "    if (decimal == 2) {\n",
    "        binario = 0;\n",
    "        prox_num = 1;\n",
    "        resto[x] = binario;\n",
    "        resto[x + 1] = prox_num;\n",
    "        break;\n",
    "    }\n",
    "}\n",
    "for (int k = x + 1; k >= 0; k--) {\n",
    "    System.out.print(resto[k]);\n",
    "}"
   ]
  },
  {
   "cell_type": "markdown",
   "metadata": {},
   "source": [
    "## Desafio 3\n",
    "\n",
    "Uma molécula de DNA pode ser definida a partir de uma cadeia que representa a sequência de suas bases:\n",
    "A - Adenina\n",
    "C - Citisina\n",
    "G - Guanina\n",
    "T - Tinina\n",
    "\n",
    "Desse modo, uma string pode ser usada para representar um segmento do DNA da seguinte maneira: `ATTACGCGCAAAC`.\n",
    "\n",
    "Escreva uma função (método) que codifique a cadeia de RNA produzida a partir de uma cadeia de DNA. A função deve ser genérica o suficiente para ser aplicável a qualquer cadeia. A entrada é uma string (DNA) e o retorno é uma string (RNA).\n",
    "\n",
    "Escreva um programa que teste esta função com uma cadeia de DNA de sua escolha."
   ]
  },
  {
   "cell_type": "code",
   "execution_count": 13,
   "metadata": {},
   "outputs": [
    {
     "data": {
      "text/plain": [
       "com.twosigma.beaker.javash.bkr6754f1f4.RNA"
      ]
     },
     "execution_count": 13,
     "metadata": {},
     "output_type": "execute_result"
    }
   ],
   "source": [
    "public class RNA {\n",
    "    public static String transcricao(String dna) {\n",
    "        String rna = \"\";\n",
    "        for (int i = 0; i < 13; i++) {\n",
    "            if (dna.charAt(i) == 'A') {\n",
    "                char base_nitro = 'U';\n",
    "                rna += base_nitro;\n",
    "            } else if (dna.charAt(i) == 'T') {\n",
    "                char base_nitro = 'A';\n",
    "                rna += base_nitro;\n",
    "            } else if (dna.charAt(i) == 'C') {\n",
    "                char base_nitro = 'G';\n",
    "                rna += base_nitro;\n",
    "            } else {\n",
    "                char base_nitro = 'C';\n",
    "                rna += base_nitro;\n",
    "            }\n",
    "        }\n",
    "        return rna;\n",
    "    }\n",
    "}"
   ]
  },
  {
   "cell_type": "code",
   "execution_count": 14,
   "metadata": {},
   "outputs": [
    {
     "name": "stdout",
     "output_type": "stream",
     "text": [
      "TACGTATCGTACC\n",
      "AUGCAUAGCAUGG"
     ]
    },
    {
     "data": {
      "text/plain": [
       "null"
      ]
     },
     "execution_count": 14,
     "metadata": {},
     "output_type": "execute_result"
    }
   ],
   "source": [
    "String dna = \"TACGTATCGTACC\";\n",
    "System.out.println(dna);\n",
    "String rna = RNA.transcricao(dna);\n",
    "System.out.print(rna);"
   ]
  },
  {
   "cell_type": "markdown",
   "metadata": {},
   "source": [
    "## Desafio 4\n",
    "\n",
    "Uma empresa precisa realizar uma estatística do salário de seus funcionários.\n",
    "\n",
    "Para fins de teste, os salários devem ser gerados aleatoriamente com valores variando entre R\\\\$ 2.500 e R\\\\$ 15.000.\n",
    "\n",
    "Escreva um programa que gere uma lista contendo os salários de 50 funcionários da empresa e mostre no console quantos funcionários ganham salário acima da média."
   ]
  },
  {
   "cell_type": "code",
   "execution_count": 10,
   "metadata": {},
   "outputs": [
    {
     "name": "stdout",
     "output_type": "stream",
     "text": [
      "27\n"
     ]
    },
    {
     "data": {
      "text/plain": [
       "null"
      ]
     },
     "execution_count": 10,
     "metadata": {},
     "output_type": "execute_result"
    }
   ],
   "source": [
    "import java.util.Random;\n",
    "Random rand = new Random();\n",
    "int salario;\n",
    "\n",
    "int lista[];\n",
    "lista = new int[50];\n",
    "for (int i = 0; i < 50; i++) {\n",
    "    salario = rand.nextInt((15000 - 2500) + 1) + 2500;\n",
    "    for (int j = 0; j < 50; j++) {\n",
    "        if (salario == lista[j] && j != i) { // se o salario ja existir na lista e os indices forem diferentes\n",
    "            salario = rand.nextInt((15000 - 2500) + 1) + 2500; // gera um outro salario aleatorio\n",
    "        } else {\n",
    "            lista[i] = salario; // senao guarda esse salario no vetor;\n",
    "        }\n",
    "    }\n",
    "}\n",
    "int soma = lista[0] + lista[1];\n",
    "int total = soma;\n",
    "for (int j = 2; j < 50; j++) {\n",
    "    total += lista[j];\n",
    "}\n",
    "int media = total / 50;\n",
    "int cont = 0;\n",
    "for (int k = 0; k < 50; k++) {\n",
    "    if (lista[k] > media) {\n",
    "        cont += 1;\n",
    "    }\n",
    "}\n",
    "System.out.println(cont);"
   ]
  },
  {
   "cell_type": "code",
   "execution_count": null,
   "metadata": {},
   "outputs": [],
   "source": []
  }
 ],
 "metadata": {
  "kernelspec": {
   "display_name": "Java",
   "language": "java",
   "name": "java"
  },
  "language_info": {
   "codemirror_mode": "text/x-java",
   "file_extension": ".java",
   "mimetype": "",
   "name": "Java",
   "nbconverter_exporter": "",
   "version": "1.8.0_121"
  },
  "toc": {
   "base_numbering": 1,
   "nav_menu": {},
   "number_sections": false,
   "sideBar": false,
   "skip_h1_title": false,
   "title_cell": "Table of Contents",
   "title_sidebar": "Contents",
   "toc_cell": false,
   "toc_position": {},
   "toc_section_display": false,
   "toc_window_display": false
  }
 },
 "nbformat": 4,
 "nbformat_minor": 4
}
