{
 "cells": [
  {
   "cell_type": "markdown",
   "metadata": {},
   "source": [
    "# Memória, Variáveis, Comunicação e Estado de um Programa\n",
    "\n",
    "Há várias possíveis estratégias para usar a memória de um computador para se realizar a comunicação entre partes dele -- por exemplo, entre duas funções -- e para se manter o **estado atual** de execução de um programa. Dentre elas, podemos destacar o uso de variáveis locais, globais e parâmetros entre funções.\n",
    "\n",
    "Vamos fazer aqui um exercício nesse contexto e você será conduzido a experimentar cada uma dessas estratégias, mesmo que em algumas ocasiões não seja a forma recomendada de se desenvolver um programa.\n",
    "\n",
    "\n",
    "# Exercício do Empréstimo\n",
    "\n",
    "Em um financiamento com juros compostos e número de parcelas fixas parte-se dos seguintes parâmetros:\n",
    "* `S` - valor da primeira parcela\n",
    "* `N` - número de parcelas\n",
    "* `J` - percentual de juros mensal\n",
    "\n",
    "A primeira parcela a ser paga do financiamento é sempre igual a `S`. A partir daí é feita uma atualização mensal da parcela, em que cada nova parcela é calculada a partir da parcela do mês anterior, conforme a fórmula:\n",
    "\n",
    "> Parcela<sub>mês</sub> = Parcela<sub>mês-1</sub> * (1 + `J` / 100)\n",
    "\n",
    "O financiamento encerra quando as `N` parcelas são pagas.\n",
    "\n",
    "Exemplo:\n",
    "* `S`: 200\n",
    "* `N`: 5\n",
    "* `J`: 1%\n",
    "\n",
    "Parcelas do financiamento:\n",
    "`200`; `202`; `204.02`; `206.06`; `208.12`"
   ]
  },
  {
   "cell_type": "markdown",
   "metadata": {},
   "source": [
    "## Exercício Parte 1 - Escrevendo um Programa\n",
    "\n",
    "Dado o problema descrito, escreva um programa que calcule as parcelas de um empréstimo para os seguintes valores:\n",
    "* `S`: 200\n",
    "* `N`: 5\n",
    "* `J`: 1%\n",
    "\n",
    "Esses valores podem ser atribuídos na função `main`, não é necessária leitura pelo teclado. Entretanto, o programa deve ser genérico, ou seja, funcionará para qualquer outro valor atribuído às 3 variáveis."
   ]
  },
  {
   "cell_type": "code",
   "execution_count": 1,
   "metadata": {},
   "outputs": [
    {
     "name": "stdout",
     "output_type": "stream",
     "text": [
      "O valor da parcela 1 eh 200.00\n",
      "O valor da parcela 2 eh 202.00\n",
      "O valor da parcela 3 eh 204.02\n",
      "O valor da parcela 4 eh 206.06\n",
      "O valor da parcela 5 eh 208.12\n"
     ]
    },
    {
     "name": "stderr",
     "output_type": "stream",
     "text": [
      "[C kernel] Executable exited with code 1"
     ]
    }
   ],
   "source": [
    "#include <stdio.h>\n",
    "\n",
    "int main() {\n",
    "    float S = 200;\n",
    "    float J = 1;\n",
    "    int N = 5;\n",
    "    float parcelas[N];\n",
    "    parcelas[0] = S;\n",
    "    printf(\"O valor da parcela 1 eh %.02f\\n\", parcelas[0]);\n",
    "    int x = 1;\n",
    "    while (x < N) {\n",
    "        parcelas[x] = parcelas[x - 1] * (1 + J / 100);\n",
    "        printf(\"O valor da parcela %d eh %.02f\\n\", x + 1, parcelas[x]);\n",
    "        x += 1;\n",
    "    }\n",
    "    return 1;\n",
    "}"
   ]
  },
  {
   "cell_type": "markdown",
   "metadata": {},
   "source": [
    "## Exercício Parte 2 - Escrevendo um Módulo (Função)\n",
    "\n",
    "Reescreva o código acima de forma que seu programa faça uso de uma função `proximaParcela` que seja responsável pelo cálculo de cada parcela X do empréstimo.\n",
    "\n",
    "Utilize as boas práticas de modularização que você aprendeu, evitando dependências do módulo com o programa em que está inserida. Considere que esta função poderia ser eventualmente reusada em outro programa e deveria ser possível fazê-lo sem que ela dependa de nada do programa em que irá se inserir.\n",
    "\n",
    "A função deve apenas calcular uma única parcela em cada chamada, portanto, ficará a cargo da função principal que chama `proximaParcela` realizar o restante do processo, para que sejam apresentadas todas as parcelas do financiamento."
   ]
  },
  {
   "cell_type": "code",
   "execution_count": 2,
   "metadata": {},
   "outputs": [
    {
     "name": "stdout",
     "output_type": "stream",
     "text": [
      "O valor da parcela 1 eh 200.00\n",
      "O valor da parcela 2 eh 202.00\n",
      "O valor da parcela 3 eh 204.02\n",
      "O valor da parcela 4 eh 206.06\n",
      "O valor da parcela 5 eh 208.12\n"
     ]
    },
    {
     "name": "stderr",
     "output_type": "stream",
     "text": [
      "[C kernel] Executable exited with code 1"
     ]
    }
   ],
   "source": [
    "#include <stdio.h>\n",
    "\n",
    "void proximaParcela(int x, float parcelas[], float S, float J, int N) {\n",
    "    parcelas[x] = parcelas[x - 1] * (1 + J / 100);\n",
    "}\n",
    "    \n",
    "int main() {\n",
    "    float S = 200;\n",
    "    float J = 1;\n",
    "    int N = 5;\n",
    "    float parcelas[N];\n",
    "    parcelas[0] = S;\n",
    "    printf(\"O valor da parcela 1 eh %.02f\\n\", parcelas[0]);\n",
    "    int x = 1;\n",
    "    while (x < N) {\n",
    "        proximaParcela(x, parcelas, S, J, N);\n",
    "        printf(\"O valor da parcela %d eh %.02f\\n\", x + 1, parcelas[x]);\n",
    "        x += 1;\n",
    "    }\n",
    "    return 1;\n",
    "}"
   ]
  },
  {
   "cell_type": "markdown",
   "metadata": {
    "tags": []
   },
   "source": [
    "## Exercício Parte 3 - Minimizando os Parâmetros\n",
    "\n",
    "Na solução anterior, você deve ter usado vários parâmetros para a comunicação entre o `main` com a função `proximaParcela`, evitando usar variáveis globais. Modifique a forma como você representa o empréstimo, de forma que a função `proximaParcela` receba sempre um único parâmetro capaz de representar todos os valores que estejam relacionados a um empréstimo."
   ]
  },
  {
   "cell_type": "code",
   "execution_count": 3,
   "metadata": {},
   "outputs": [
    {
     "name": "stdout",
     "output_type": "stream",
     "text": [
      "O valor da parcela 1 eh 200.00\n",
      "O valor da parcela 2 eh 202.00\n",
      "O valor da parcela 3 eh 204.02\n",
      "O valor da parcela 4 eh 206.06\n",
      "O valor da parcela 5 eh 208.12\n"
     ]
    },
    {
     "name": "stderr",
     "output_type": "stream",
     "text": [
      "[C kernel] Executable exited with code 1"
     ]
    }
   ],
   "source": [
    "#include <stdio.h>\n",
    "\n",
    "typedef struct {\n",
    "    float S;\n",
    "    float J;\n",
    "    int N;\n",
    "    float parcela;\n",
    "} Emprestimo;\n",
    "\n",
    "Emprestimo emprestimo(float S, float J, int N) {\n",
    "    Emprestimo novo_emprestimo;\n",
    "    novo_emprestimo.S = S;\n",
    "    novo_emprestimo.J = J;\n",
    "    novo_emprestimo.N = N;\n",
    "    novo_emprestimo.parcela = S;\n",
    "    return novo_emprestimo;\n",
    "}\n",
    "\n",
    "float proximaParcela(Emprestimo *novo_emprestimo) {\n",
    "   novo_emprestimo->parcela = novo_emprestimo->parcela * (1 + novo_emprestimo->J / 100);\n",
    "   return novo_emprestimo->parcela;\n",
    "}\n",
    "\n",
    "int main() {\n",
    "    Emprestimo novo_emprestimo;\n",
    "    float S = 200;\n",
    "    float J = 1;\n",
    "    int N = 5;\n",
    "    novo_emprestimo = emprestimo(S, J, N);\n",
    "    float parcela_atual = proximaParcela(&novo_emprestimo);\n",
    "    printf(\"O valor da parcela 1 eh %.02f\\n\", S);\n",
    "    int x = 1;\n",
    "    while (x < N) { \n",
    "        printf(\"O valor da parcela %d eh %.02f\\n\", x + 1, parcela_atual);\n",
    "        parcela_atual = proximaParcela(&novo_emprestimo);\n",
    "        x += 1;\n",
    "    }\n",
    "    return 1;\n",
    "}"
   ]
  },
  {
   "cell_type": "markdown",
   "metadata": {},
   "source": [
    "## Exercício Parte 4 - Mantendo o Estado\n",
    "\n",
    "A função que você codificou na solução anterior provavelmente não é capaz de manter o controle do que chamaremos de **estado do empréstimo**, ou seja, dados de qual a parcela corrente ou da última parcela calculada.\n",
    "\n",
    "Modifique a função (módulo) `proximaParcela` acima de modo que ela seja capaz de guardar o **estado do empréstimo** por sua conta, sem que o `main` precise ficar informando este estado por parâmetros (por exemplo). Para isso serão permitidas as seguintes modificações:\n",
    "\n",
    "1. você pode desmembrar a função em mais de uma, por exemplo, uma você chama no começo do empréstimo e outra a cada parcela;\n",
    "\n",
    "2. você pode usar técnicas de uso de variáveis não recomendadas que geram dependência das funções com o programa em que ela está inserida.\n",
    "\n",
    "Você deve organizar o código de tal maneira que o `main` informe para as funções os dados do financiamento apenas uma única vez e depois possa solicitar o cálculo da parcela subsequente sem informar tudo novamente. O ideal é que o main não tenha acesso ao modo como as funções vão representar o **estado do empréstimo**, para que toda a lógica do empréstimo fique dentro das funções."
   ]
  },
  {
   "cell_type": "code",
   "execution_count": 5,
   "metadata": {},
   "outputs": [
    {
     "name": "stdout",
     "output_type": "stream",
     "text": [
      "O valor da parcela 1 eh 200.00\n",
      "O valor da parcela 2 eh 202.00\n",
      "O valor da parcela 3 eh 204.02\n",
      "O valor da parcela 4 eh 206.06\n",
      "O valor da parcela 5 eh 208.12\n"
     ]
    },
    {
     "name": "stderr",
     "output_type": "stream",
     "text": [
      "[C kernel] Executable exited with code 1"
     ]
    }
   ],
   "source": [
    "#include <stdio.h>\n",
    "\n",
    "typedef struct {\n",
    "    float S;\n",
    "    float J;\n",
    "    int N;\n",
    "    float parcela;\n",
    "} Emprestimo;\n",
    "\n",
    "Emprestimo emprestimo(float S, float J, int N) {\n",
    "    Emprestimo novo_emprestimo;\n",
    "    novo_emprestimo.S = S;\n",
    "    novo_emprestimo.J = J;\n",
    "    novo_emprestimo.N = N;\n",
    "    novo_emprestimo.parcela = S;\n",
    "    return novo_emprestimo;\n",
    "}\n",
    "\n",
    "float comecar_emprestimo(Emprestimo *novo_emprestimo) {\n",
    "    return novo_emprestimo->parcela;\n",
    "}\n",
    "\n",
    "float proximaParcela(Emprestimo *novo_emprestimo) {\n",
    "    novo_emprestimo->parcela = novo_emprestimo->parcela * (1 + novo_emprestimo->J / 100);\n",
    "    float parcela_anterior = novo_emprestimo->parcela;\n",
    "    return parcela_anterior;\n",
    "}\n",
    "\n",
    "int main() {\n",
    "    Emprestimo novo_emprestimo;\n",
    "    float S = 200;\n",
    "    float J = 1;\n",
    "    int N = 5;\n",
    "    novo_emprestimo = emprestimo(S, J, N);\n",
    "    float primeiro_emprestimo = comecar_emprestimo(&novo_emprestimo);\n",
    "    printf(\"O valor da parcela 1 eh %.02f\\n\", primeiro_emprestimo);\n",
    "    int x = 2;\n",
    "    while (x <= N) {\n",
    "        float proxima_parcela = proximaParcela(&novo_emprestimo);\n",
    "        printf(\"O valor da parcela %d eh %.02f\\n\", x, proxima_parcela);\n",
    "        x += 1;\n",
    "    }\n",
    "    return 1;\n",
    "}"
   ]
  },
  {
   "cell_type": "markdown",
   "metadata": {},
   "source": [
    "## Exercício Parte 5 - Múltiplos Empréstimos\n",
    "\n",
    "Considere que há múltiplos empréstimos que podem ser controlados em paralelo. A sua função `main` deve ser capaz de apresentar no console as parcelas de mais de um empréstimo de modo paralelo, mantendo um controle para cada **estado de empréstimo** separadamente. Você deve decidir qual das soluções tomará como ponto de partida, se deve modificar a função `main`, as funções de cálculo do empréstimo ou ambas para atender esse requisito da melhor forma possível.\n",
    "\n",
    "Adote uma solução compacta e generalizável, de tal modo que comporte até 100 empréstimo e, cada novo empréstimo, só exija a informação dos parâmetros de partida, sem expansão do código.\n",
    "\n",
    "Por exemplo, suponha os seguintes dois empréstimos em paralelo:\n",
    "\n",
    "### Empréstimo 1\n",
    "* `S`: 200\n",
    "* `N`: 5\n",
    "* `J`: 1%\n",
    "\n",
    "### Empréstimo 2\n",
    "* `S`: 500\n",
    "* `N`: 7\n",
    "* `J`: 2%\n",
    "\n",
    "A saída esperada é:\n",
    "~~~\n",
    "Emprestimo 1: parcela 1 eh 200.00\n",
    "Emprestimo 2: parcela 1 eh 500.00\n",
    "Emprestimo 1: parcela 2 eh 202.00\n",
    "Emprestimo 2: parcela 2 eh 510.00\n",
    "Emprestimo 1: parcela 3 eh 204.02\n",
    "Emprestimo 2: parcela 3 eh 520.20\n",
    "Emprestimo 1: parcela 4 eh 206.06\n",
    "Emprestimo 2: parcela 4 eh 530.60\n",
    "Emprestimo 1: parcela 5 eh 208.12\n",
    "Emprestimo 2: parcela 5 eh 541.22\n",
    "Emprestimo 2: parcela 6 eh 552.04\n",
    "Emprestimo 2: parcela 7 eh 563.08\n",
    "~~~\n",
    "\n",
    "O exemplo mostra dois empréstimos, mas a estrutura deve ser genérica o suficiente para controlar N empréstimos em paralelo (até o limite de 100).\n",
    "\n",
    "O seu programa deve apresentar o exemplo acima como teste."
   ]
  },
  {
   "cell_type": "code",
   "execution_count": 6,
   "metadata": {},
   "outputs": [
    {
     "name": "stdout",
     "output_type": "stream",
     "text": [
      "Emprestimo 1: parcela 1 eh 200.00\n",
      "Emprestimo 2: parcela 1 eh 500.00\n",
      "Emprestimo 1: parcela 2 eh 202.00\n",
      "Emprestimo 2: parcela 2 eh 510.00\n",
      "Emprestimo 1: parcela 3 eh 204.02\n",
      "Emprestimo 2: parcela 3 eh 520.20\n",
      "Emprestimo 1: parcela 4 eh 206.06\n",
      "Emprestimo 2: parcela 4 eh 530.60\n",
      "Emprestimo 1: parcela 5 eh 208.12\n",
      "Emprestimo 2: parcela 5 eh 541.22\n",
      "Emprestimo 2: parcela 6 eh 552.04\n",
      "Emprestimo 2: parcela 7 eh 563.08\n"
     ]
    },
    {
     "name": "stderr",
     "output_type": "stream",
     "text": [
      "[C kernel] Executable exited with code 1"
     ]
    }
   ],
   "source": [
    "#include <stdio.h>\n",
    "\n",
    "typedef struct {\n",
    "    float S;\n",
    "    float J;\n",
    "    int N;\n",
    "    float parcela;\n",
    "    int x; // parcela atual\n",
    "} Emprestimo;\n",
    "\n",
    "Emprestimo emprestimo(float S, float J, int N) { // essa funcao atribui os valores desejados para os registros\n",
    "    // da struct\n",
    "    Emprestimo novo_emprestimo;\n",
    "    novo_emprestimo.S = S;\n",
    "    novo_emprestimo.J = J;\n",
    "    novo_emprestimo.N = N;\n",
    "    novo_emprestimo.parcela = S; // parcela inicia com o valor de S\n",
    "    novo_emprestimo.x = 1; // primeira parcela\n",
    "    return novo_emprestimo;\n",
    "}\n",
    "\n",
    "float comecar_emprestimo(Emprestimo *novo_emprestimo) {\n",
    "    return novo_emprestimo->parcela;\n",
    "}\n",
    "\n",
    "float proximaParcela(Emprestimo *novo_emprestimo) {\n",
    "    float parcela_anterior = 0; // atribui 0 para a variavel parcela_anterior apenas para evitar lixo\n",
    "    if (novo_emprestimo->x < novo_emprestimo->N) {\n",
    "        novo_emprestimo->parcela = novo_emprestimo->parcela * (1 + novo_emprestimo->J / 100);\n",
    "        parcela_anterior = novo_emprestimo->parcela;\n",
    "    } else {\n",
    "        novo_emprestimo->parcela = 0;\n",
    "    }\n",
    "    novo_emprestimo->x += 1;\n",
    "    return parcela_anterior;\n",
    "}\n",
    "    \n",
    "int main() {\n",
    "    Emprestimo emprestimo_1, emprestimo_2;\n",
    "    emprestimo_1 = emprestimo(200, 1, 5);\n",
    "    emprestimo_2 = emprestimo(500, 2, 7);\n",
    "    float primeiro_emprestimo_1 = comecar_emprestimo(&emprestimo_1);\n",
    "    float primeiro_emprestimo_2 = comecar_emprestimo(&emprestimo_2);\n",
    "    printf(\"Emprestimo 1: parcela 1 eh %.02f\\n\", primeiro_emprestimo_1);\n",
    "    printf(\"Emprestimo 2: parcela 1 eh %.02f\\n\", primeiro_emprestimo_2);\n",
    "    int x = 2; \n",
    "    while (x < emprestimo_1.N || x <= emprestimo_2.N) {\n",
    "        float proxima_parcela_1 = proximaParcela(&emprestimo_1);\n",
    "        if (proxima_parcela_1 != 0) {\n",
    "             printf(\"Emprestimo 1: parcela %d eh %.02f\\n\", x, proxima_parcela_1);\n",
    "        }\n",
    "        float proxima_parcela_2 = proximaParcela(&emprestimo_2);\n",
    "        if (proxima_parcela_2 != 0) {\n",
    "            printf(\"Emprestimo 2: parcela %d eh %.02f\\n\", x, proxima_parcela_2);\n",
    "        }\n",
    "        x += 1;\n",
    "    }\n",
    "    return 1;\n",
    "}"
   ]
  },
  {
   "cell_type": "code",
   "execution_count": null,
   "metadata": {},
   "outputs": [],
   "source": []
  }
 ],
 "metadata": {
  "kernelspec": {
   "display_name": "C",
   "language": "c",
   "name": "c"
  },
  "language_info": {
   "file_extension": ".c",
   "mimetype": "text/plain",
   "name": "c"
  }
 },
 "nbformat": 4,
 "nbformat_minor": 4
}
